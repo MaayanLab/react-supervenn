{
 "cells": [
  {
   "cell_type": "code",
   "execution_count": null,
   "id": "cfabf892",
   "metadata": {},
   "outputs": [],
   "source": [
    "import random\n",
    "from react_supervenn import supervenn, ReactSupervenn"
   ]
  },
  {
   "cell_type": "code",
   "execution_count": null,
   "id": "569f5cfc",
   "metadata": {},
   "outputs": [],
   "source": [
    "data=[set(random.choices(list(range(1000)), k=400)) for n in range(4)]"
   ]
  },
  {
   "cell_type": "code",
   "execution_count": null,
   "id": "21a48ff6",
   "metadata": {},
   "outputs": [],
   "source": [
    "ReactSupervenn(\n",
    "    data,\n",
    "    rotate_col_annotations=True,\n",
    "    widths_minmax_ratio=0.25,\n",
    ")"
   ]
  }
 ],
 "metadata": {
  "kernelspec": {
   "display_name": "Python 3 (ipykernel)",
   "language": "python",
   "name": "python3"
  },
  "language_info": {
   "codemirror_mode": {
    "name": "ipython",
    "version": 3
   },
   "file_extension": ".py",
   "mimetype": "text/x-python",
   "name": "python",
   "nbconvert_exporter": "python",
   "pygments_lexer": "ipython3",
   "version": "3.10.9"
  }
 },
 "nbformat": 4,
 "nbformat_minor": 5
}
